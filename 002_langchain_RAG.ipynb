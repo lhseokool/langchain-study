{
  "cells": [
    {
      "cell_type": "markdown",
      "id": "83efc973-52a7-4dd7-a1fd-f0e24729c061",
      "metadata": {
        "id": "83efc973-52a7-4dd7-a1fd-f0e24729c061"
      },
      "source": [
        "# Part2: RAG (Retrieval-Augmented Generation)\n",
        "- 모델의 학습 데이터에 포함되지 않은 데이터를 사용 (환각 방지)\n",
        "- **외부 데이터**를 검색(retrieval)한 후, 생성(generation) 단계에서 LLM에 전달\n",
        "- 모델은 주어진 컨텍스트나 질문에 더 적합하고 풍부한 정보를 반영한 답변을 생성\n",
        "- 논문: https://arxiv.org/abs/2005.11401"
      ]
    },
    {
      "cell_type": "markdown",
      "id": "DEJbhYzzUZ-K",
      "metadata": {
        "id": "DEJbhYzzUZ-K"
      },
      "source": [
        "## 0. 환경 구성"
      ]
    },
    {
      "cell_type": "markdown",
      "id": "1F5lTDp5UPf0",
      "metadata": {
        "id": "1F5lTDp5UPf0"
      },
      "source": [
        "### 1) 라이브러리 설치"
      ]
    },
    {
      "cell_type": "code",
      "execution_count": null,
      "id": "4cd87a33-0a37-461b-8f37-3c142e60b1f6",
      "metadata": {
        "id": "4cd87a33-0a37-461b-8f37-3c142e60b1f6"
      },
      "outputs": [],
      "source": [
        "!pip install -q langchain langchain-openai langchain_community tiktoken chromadb"
      ]
    },
    {
      "cell_type": "code",
      "execution_count": null,
      "id": "si0unLA0n8Po",
      "metadata": {
        "id": "si0unLA0n8Po"
      },
      "outputs": [],
      "source": [
        "import langchain\n",
        "\n",
        "langchain.__version__"
      ]
    },
    {
      "cell_type": "markdown",
      "id": "55152049-e9e5-4952-8e19-409f58cf3ac9",
      "metadata": {
        "id": "55152049-e9e5-4952-8e19-409f58cf3ac9"
      },
      "source": [
        "### 2) OpenAI 인증키 설정\n",
        "https://openai.com/"
      ]
    },
    {
      "cell_type": "code",
      "execution_count": null,
      "id": "b76f68a8-4745-4377-8057-6090b87377d1",
      "metadata": {
        "id": "b76f68a8-4745-4377-8057-6090b87377d1"
      },
      "outputs": [],
      "source": [
        "# import os\n",
        "\n",
        "# os.environ['OPENAI_API_KEY'] = 'OPENAI_API_KEY'\n",
        "\n",
        "from dotenv import load_dotenv\n",
        "\n",
        "load_dotenv()"
      ]
    },
    {
      "cell_type": "markdown",
      "id": "NU1VnNaZN2-d",
      "metadata": {
        "id": "NU1VnNaZN2-d"
      },
      "source": [
        "## 1. RAG 파이프라인 개요\n",
        "- Load Data - Text Split - Indexing - Retrieval - Generation\n",
        "\n"
      ]
    },
    {
      "cell_type": "markdown",
      "id": "PufJBHgTaA-L",
      "metadata": {
        "id": "PufJBHgTaA-L"
      },
      "source": [
        "##### Step 1: Load Data"
      ]
    },
    {
      "cell_type": "code",
      "execution_count": 2,
      "id": "6f5e3a62-f0a8-4d03-b983-d33de460d229",
      "metadata": {
        "id": "6f5e3a62-f0a8-4d03-b983-d33de460d229"
      },
      "outputs": [
        {
          "name": "stdout",
          "output_type": "stream",
          "text": [
            "1\n",
            "13317\n",
            "자가 공동체의 규범을 총체적으로 어기고 있다면 규범 준수를 위해 좀 더 빠르게 강력한 수단을 이용해야 합니다. 특히 정책 문서에 명시된 원칙을 지키지 않는 것은 대부분의 경우 다른 사용자에게 받아들여지지 않습니다 (다른 분들에게 예외 상황임을 설득할 수 있다면 가능하기는 하지만요). 이는 당신을 포함해서 편집자 개개인이 정책과 지침을 직접 집행 및 적용한다는 것을 의미합니다.\n",
            "특정 사용자가 명백히 정책에 반하는 행동을 하거나 정책과 상충되는 방식으로 지침을 어기는 경우, 특히 의도적이고 지속적으로 그런 행위를 하는 경우 해당 사용자는 관리자의 제재 조치로 일시적, 혹은 영구적으로 편집이 차단될 수 있습니다. 영어판을 비롯한 타 언어판에서는 일반적인 분쟁 해결 절차로 끝낼 수 없는 사안은 중재위원회가 개입하기도 합니다.\n",
            "\n",
            "문서 내용\n",
            "정책과 지침의 문서 내용은 처음 읽는 사용자라도 원칙과 규범을 잘 이해할 수 있도록 다음 원칙을 지켜야 합니다.\n",
            "\n",
            "명확하게 작성하세요. 소수만 알아듣거나 준법률적인 단어, 혹은 지나치게 단순한 표현은 피해야 합니다. 명확하고, 직접적이고, 모호하지 않고, 구체적으로 작성하세요. 지나치게 상투적인 표현이나 일반론은 피하세요. 지침, 도움말 문서 및 기타 정보문 문서에서도 \"해야 합니다\" 혹은 \"하지 말아야 합니다\" 같이 직접적인 표현을 굳이 꺼릴 필요는 없습니다.\n",
            "가능한 간결하게, 너무 단순하지는 않게. 정책이 중언부언하면 오해를 부릅니다. 불필요한 말은 생략하세요. 직접적이고 간결한 설명이 마구잡이식 예시 나열보다 더 이해하기 쉽습니다. 각주나 관련 문서 링크를 이용하여 더 상세히 설명할 수도 있습니다.\n",
            "규칙을 만든 의도를 강조하세요. 사용자들이 상식대로 행동하리라 기대하세요. 정책의 의도가 명료하다면, 추가 설명은 필요 없죠. 즉 규칙을 '어떻게' 지키는지와 더불어 '왜' 지켜야 하는지 확실하게 밝혀야 합니다.\n",
            "범위는 분명히, 중복은 피하기. 되도록 앞부분에서 정책 및 지침의 목적과 범위를 분명하게 밝혀야 합니다. 독자 대부분은 도\n"
          ]
        }
      ],
      "source": [
        "# Data Loader - 웹페이지 데이터 가져오기\n",
        "from langchain_community.document_loaders import WebBaseLoader\n",
        "\n",
        "# 위키피디아 정책과 지침\n",
        "url = 'https://ko.wikipedia.org/wiki/%EC%9C%84%ED%82%A4%EB%B0%B1%EA%B3%BC:%EC%A0%95%EC%B1%85%EA%B3%BC_%EC%A7%80%EC%B9%A8'\n",
        "loader = WebBaseLoader(url)\n",
        "\n",
        "# 웹페이지 텍스트 -> Documents\n",
        "docs = loader.load()\n",
        "\n",
        "print(len(docs))\n",
        "print(len(docs[0].page_content))\n",
        "print(docs[0].page_content[5000:6000])"
      ]
    },
    {
      "cell_type": "markdown",
      "id": "vzBeboLlaIuy",
      "metadata": {
        "id": "vzBeboLlaIuy"
      },
      "source": [
        "##### Step 2: Split texts"
      ]
    },
    {
      "cell_type": "code",
      "execution_count": 3,
      "id": "c64f653d-dcfb-432b-b090-40476aa4c29c",
      "metadata": {
        "colab": {
          "base_uri": "https://localhost:8080/"
        },
        "id": "c64f653d-dcfb-432b-b090-40476aa4c29c",
        "outputId": "3ed2f01a-db0a-4256-e4bb-ff998078ba18"
      },
      "outputs": [
        {
          "name": "stdout",
          "output_type": "stream",
          "text": [
            "19\n",
            "page_content='제안과 채택\n",
            " 백:아님 § 관료주의  문서를 참고하십시오. 단축백:제안\n",
            "제안 문서란 정책과 지침으로 채택하자고 의견을 묻는 문서이나 아직 위키백과 내에 받아들여지는 원칙으로 확립되지는 않은 문서입니다. {{제안}} 틀을 붙여 공동체 내에서 정책이나 지침으로 채택할 지 의견을 물을 수 있습니다. 제안 문서는 정책과 지침이 아니므로 아무리 실제 있는 정책이나 지침을 요약하거나 인용해서 다른 문서에 쓴다고 해도 함부로 정책이나 지침 틀을 붙여서는 안 됩니다.\n",
            "'제안'은 완전 새로운 원칙이라기보다, 기존의 불문율이나 토론 총의의 문서를 통한 구체화에 가깝습니다. 많은 사람들이 쉽게 제안을 받아들이도록 하기 위해서는, 기초적인 원칙을 우선 정하고 기본 틀을 짜야 합니다. 정책과 지침의 기본 원칙은 \"왜 지켜야 하는가?\", \"어떻게 지켜야 하는가?\" 두 가지입니다. 특정 원칙을 정책이나 지침으로 확립하기 위해서는 우선 저 두 가지 물음에 성실하게 답하는 제안 문서를 작성해야 합니다.\n",
            "좋은 아이디어를 싣기 위해 사랑방이나 관련 위키프로젝트에 도움을 구해 피드백을 요청할 수 있습니다. 이 과정에서 공동체가 어느 정도 받아들일 수 있는 원칙이 구체화됩니다. 많은 이와의 토론을 통해 공감대가 형성되고 제안을 개선할 수 있습니다.\n",
            "정책이나 지침은 위키백과 내의 모든 편집자들에게 적용되는 원칙이므로 높은 수준의 총의가 요구됩니다. 제안 문서가 잘 짜여졌고 충분히 논의되었다면, 더 많은 공동체의 편집자와 논의를 하기 위해 승격 제안을 올려야 합니다. 제안 문서 맨 위에 {{제안}}을 붙여 제안 안건임을 알려주고, 토론 문서에 {{의견 요청}}을 붙인 뒤 채택 제안에 관한 토론 문단을 새로 만들면 됩니다. 많은 편집자들에게 알리기 위해 관련 내용을 {{위키백과 소식}}에 올리고 사랑방에 이를 공지해야 하며, 합의가 있을 경우 미디어위키의 sitenotice(위키백과 최상단에 노출되는 구역)에 공지할 수도 있습니다.' metadata={'source': 'https://ko.wikipedia.org/wiki/%EC%9C%84%ED%82%A4%EB%B0%B1%EA%B3%BC:%EC%A0%95%EC%B1%85%EA%B3%BC_%EC%A7%80%EC%B9%A8', 'title': '위키백과:정책과 지침 - 위키백과, 우리 모두의 백과사전', 'language': 'ko'}\n"
          ]
        }
      ],
      "source": [
        "# Text Split (Documents -> small chunks: Documents)\n",
        "from langchain.text_splitter import RecursiveCharacterTextSplitter\n",
        "\n",
        "text_splitter = RecursiveCharacterTextSplitter(chunk_size=1000, chunk_overlap=200)\n",
        "splits = text_splitter.split_documents(docs)\n",
        "\n",
        "print(len(splits))\n",
        "print(splits[10])"
      ]
    },
    {
      "cell_type": "code",
      "execution_count": 4,
      "id": "bc49bd43-5adb-4862-8134-78645ad068e7",
      "metadata": {
        "colab": {
          "base_uri": "https://localhost:8080/",
          "height": 250
        },
        "id": "bc49bd43-5adb-4862-8134-78645ad068e7",
        "outputId": "71cb4855-b814-4c01-8439-3ffacf576768"
      },
      "outputs": [
        {
          "data": {
            "text/plain": [
              "'제안과 채택\\n\\xa0백:아님 §\\xa0관료주의  문서를 참고하십시오. 단축백:제안\\n제안 문서란 정책과 지침으로 채택하자고 의견을 묻는 문서이나 아직 위키백과 내에 받아들여지는 원칙으로 확립되지는 않은 문서입니다. {{제안}} 틀을 붙여 공동체 내에서 정책이나 지침으로 채택할 지 의견을 물을 수 있습니다. 제안 문서는 정책과 지침이 아니므로 아무리 실제 있는 정책이나 지침을 요약하거나 인용해서 다른 문서에 쓴다고 해도 함부로 정책이나 지침 틀을 붙여서는 안 됩니다.\\n\\'제안\\'은 완전 새로운 원칙이라기보다, 기존의 불문율이나 토론 총의의 문서를 통한 구체화에 가깝습니다. 많은 사람들이 쉽게 제안을 받아들이도록 하기 위해서는, 기초적인 원칙을 우선 정하고 기본 틀을 짜야 합니다. 정책과 지침의 기본 원칙은 \"왜 지켜야 하는가?\", \"어떻게 지켜야 하는가?\" 두 가지입니다. 특정 원칙을 정책이나 지침으로 확립하기 위해서는 우선 저 두 가지 물음에 성실하게 답하는 제안 문서를 작성해야 합니다.\\n좋은 아이디어를 싣기 위해 사랑방이나 관련 위키프로젝트에 도움을 구해 피드백을 요청할 수 있습니다. 이 과정에서 공동체가 어느 정도 받아들일 수 있는 원칙이 구체화됩니다. 많은 이와의 토론을 통해 공감대가 형성되고 제안을 개선할 수 있습니다.\\n정책이나 지침은 위키백과 내의 모든 편집자들에게 적용되는 원칙이므로 높은 수준의 총의가 요구됩니다. 제안 문서가 잘 짜여졌고 충분히 논의되었다면, 더 많은 공동체의 편집자와 논의를 하기 위해 승격 제안을 올려야 합니다. 제안 문서 맨 위에 {{제안}}을 붙여 제안 안건임을 알려주고, 토론 문서에 {{의견 요청}}을 붙인 뒤 채택 제안에 관한 토론 문단을 새로 만들면 됩니다. 많은 편집자들에게 알리기 위해 관련 내용을 {{위키백과 소식}}에 올리고 사랑방에 이를 공지해야 하며, 합의가 있을 경우 미디어위키의 sitenotice(위키백과 최상단에 노출되는 구역)에 공지할 수도 있습니다.'"
            ]
          },
          "execution_count": 4,
          "metadata": {},
          "output_type": "execute_result"
        }
      ],
      "source": [
        "# page_content 속성\n",
        "splits[10].page_content"
      ]
    },
    {
      "cell_type": "code",
      "execution_count": 5,
      "id": "91248b06-1161-4b2d-b6c3-707e6e5f8620",
      "metadata": {
        "colab": {
          "base_uri": "https://localhost:8080/"
        },
        "id": "91248b06-1161-4b2d-b6c3-707e6e5f8620",
        "outputId": "d690db44-0e07-4915-8a86-ba5a1b62a08d"
      },
      "outputs": [
        {
          "data": {
            "text/plain": [
              "{'source': 'https://ko.wikipedia.org/wiki/%EC%9C%84%ED%82%A4%EB%B0%B1%EA%B3%BC:%EC%A0%95%EC%B1%85%EA%B3%BC_%EC%A7%80%EC%B9%A8',\n",
              " 'title': '위키백과:정책과 지침 - 위키백과, 우리 모두의 백과사전',\n",
              " 'language': 'ko'}"
            ]
          },
          "execution_count": 5,
          "metadata": {},
          "output_type": "execute_result"
        }
      ],
      "source": [
        "# metadata 속성\n",
        "splits[10].metadata"
      ]
    },
    {
      "cell_type": "markdown",
      "id": "-PLZMd4baaLc",
      "metadata": {
        "id": "-PLZMd4baaLc"
      },
      "source": [
        "##### Step 3: Indexing"
      ]
    },
    {
      "cell_type": "code",
      "execution_count": null,
      "id": "9b104013-e54c-409f-864e-7e6655a67743",
      "metadata": {
        "colab": {
          "base_uri": "https://localhost:8080/"
        },
        "id": "9b104013-e54c-409f-864e-7e6655a67743",
        "outputId": "bd089fd3-981f-41d8-9fe3-f896042318b4"
      },
      "outputs": [],
      "source": [
        "# Indexing (Texts -> Embedding -> Store)\n",
        "from langchain_community.vectorstores import Chroma\n",
        "from langchain_openai import OpenAIEmbeddings\n",
        "\n",
        "vectorstore = Chroma.from_documents(documents=splits,\n",
        "                                    embedding=OpenAIEmbeddings())\n",
        "\n",
        "docs = vectorstore.similarity_search(\"격하 과정에 대해서 설명해주세요.\")\n",
        "print(len(docs))\n",
        "print(docs[0].page_content)"
      ]
    },
    {
      "cell_type": "markdown",
      "id": "mYrHWwsnajPY",
      "metadata": {
        "id": "mYrHWwsnajPY"
      },
      "source": [
        "##### Step 4: Retrieval ~ Generation"
      ]
    },
    {
      "cell_type": "code",
      "execution_count": null,
      "id": "e99275d3-abb2-4bc3-b783-2afc37d4b666",
      "metadata": {
        "colab": {
          "base_uri": "https://localhost:8080/",
          "height": 89
        },
        "id": "e99275d3-abb2-4bc3-b783-2afc37d4b666",
        "outputId": "39a07730-20ee-43b7-df52-e02a9c70b598"
      },
      "outputs": [],
      "source": [
        "from langchain_openai import ChatOpenAI\n",
        "from langchain_core.prompts import ChatPromptTemplate\n",
        "from langchain_core.runnables import RunnablePassthrough\n",
        "from langchain_core.output_parsers import StrOutputParser\n",
        "from langchain_ollama import ChatOllama\n",
        "\n",
        "\n",
        "\n",
        "# Prompt\n",
        "template = '''Answer the question based only on the following context:\n",
        "{context}\n",
        "\n",
        "Question: {question}\n",
        "'''\n",
        "\n",
        "prompt = ChatPromptTemplate.from_template(template)\n",
        "\n",
        "# LLM\n",
        "# model = ChatOpenAI(model='gpt-4o-mini', temperature=0)\n",
        "model = ChatOllama(model=\"gemma3:12b\")\n",
        "\n",
        "# Rretriever\n",
        "retriever = vectorstore.as_retriever()\n",
        "\n",
        "# Combine Documents\n",
        "def format_docs(docs):\n",
        "    return '\\n\\n'.join(doc.page_content for doc in docs)\n",
        "\n",
        "# RAG Chain 연결\n",
        "rag_chain = (\n",
        "    {'context': retriever | format_docs, 'question': RunnablePassthrough()}\n",
        "    | prompt\n",
        "    | model\n",
        "    | StrOutputParser()\n",
        ")\n",
        "\n",
        "# Chain 실행\n",
        "rag_chain.invoke(\"격하 과정에 대해서 설명해주세요.\")"
      ]
    }
  ],
  "metadata": {
    "colab": {
      "provenance": []
    },
    "kernelspec": {
      "display_name": "Python 3",
      "name": "python3"
    },
    "language_info": {
      "name": "python"
    }
  },
  "nbformat": 4,
  "nbformat_minor": 5
}
